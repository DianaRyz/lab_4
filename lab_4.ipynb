{
 "cells": [
  {
   "cell_type": "markdown",
   "source": [
    "Лабораторная №4"
   ],
   "metadata": {
    "collapsed": false
   }
  },
  {
   "cell_type": "markdown",
   "source": [
    "1-2: Формируем DataFrame"
   ],
   "metadata": {
    "collapsed": false
   }
  },
  {
   "cell_type": "code",
   "execution_count": 1,
   "outputs": [],
   "source": [
    "import pandas as pd\n",
    "import cv2\n",
    "import matplotlib.pyplot as plt\n",
    "import random"
   ],
   "metadata": {
    "collapsed": false
   }
  },
  {
   "cell_type": "code",
   "execution_count": 2,
   "outputs": [
    {
     "name": "stdout",
     "output_type": "stream",
     "text": [
      "                     absolute way    class\n",
      "0       D:/dataset/tiger/0000.jpg    tiger\n",
      "1       D:/dataset/tiger/0001.jpg    tiger\n",
      "2       D:/dataset/tiger/0002.jpg    tiger\n",
      "3       D:/dataset/tiger/0003.jpg    tiger\n",
      "4       D:/dataset/tiger/0004.jpg    tiger\n",
      "...                           ...      ...\n",
      "2195  D:/dataset/leopard/1095.jpg  leopard\n",
      "2196  D:/dataset/leopard/1096.jpg  leopard\n",
      "2197  D:/dataset/leopard/1097.jpg  leopard\n",
      "2198  D:/dataset/leopard/1098.jpg  leopard\n",
      "2199  D:/dataset/leopard/1099.jpg  leopard\n",
      "\n",
      "[2200 rows x 2 columns]\n"
     ]
    }
   ],
   "source": [
    "df = pd.read_csv(\"dataset.csv\", sep=\";\")\n",
    "df = df.rename(columns={\"Absolute way\": \"absolute way\"})\n",
    "df = df.rename(columns={\"Class\": \"class\"})\n",
    "df = df.drop([\"Relative way\"], axis=1)\n",
    "print(df)"
   ],
   "metadata": {
    "collapsed": false
   }
  },
  {
   "cell_type": "markdown",
   "source": [
    "3: Метка класса"
   ],
   "metadata": {
    "collapsed": false
   }
  },
  {
   "cell_type": "code",
   "execution_count": 3,
   "outputs": [
    {
     "name": "stdout",
     "output_type": "stream",
     "text": [
      "                     absolute way    class  mark\n",
      "0       D:/dataset/tiger/0000.jpg    tiger     0\n",
      "1       D:/dataset/tiger/0001.jpg    tiger     0\n",
      "2       D:/dataset/tiger/0002.jpg    tiger     0\n",
      "3       D:/dataset/tiger/0003.jpg    tiger     0\n",
      "4       D:/dataset/tiger/0004.jpg    tiger     0\n",
      "...                           ...      ...   ...\n",
      "2195  D:/dataset/leopard/1095.jpg  leopard     1\n",
      "2196  D:/dataset/leopard/1096.jpg  leopard     1\n",
      "2197  D:/dataset/leopard/1097.jpg  leopard     1\n",
      "2198  D:/dataset/leopard/1098.jpg  leopard     1\n",
      "2199  D:/dataset/leopard/1099.jpg  leopard     1\n",
      "\n",
      "[2200 rows x 3 columns]\n"
     ]
    }
   ],
   "source": [
    "def mark_class(row) -> int:\n",
    "    \"\"\"Mark for class\"\"\"\n",
    "    mark = 1\n",
    "    if row[\"class\"] == \"tiger\":\n",
    "        mark = 0\n",
    "    return mark\n",
    "\n",
    "df[\"mark\"] = df.apply(mark_class, axis=1)\n",
    "print(df)"
   ],
   "metadata": {
    "collapsed": false
   }
  },
  {
   "cell_type": "markdown",
   "source": [
    "4: Добавляем столбцы с размерами изображений"
   ],
   "metadata": {
    "collapsed": false
   }
  },
  {
   "cell_type": "code",
   "execution_count": 5,
   "outputs": [
    {
     "name": "stdout",
     "output_type": "stream",
     "text": [
      "                     absolute way    class  mark  height  width  depth\n",
      "0       D:/dataset/tiger/0000.jpg    tiger     0     319    480      3\n",
      "1       D:/dataset/tiger/0001.jpg    tiger     0     300    480      3\n",
      "2       D:/dataset/tiger/0002.jpg    tiger     0     320    480      3\n",
      "3       D:/dataset/tiger/0003.jpg    tiger     0     270    480      3\n",
      "4       D:/dataset/tiger/0004.jpg    tiger     0     300    480      3\n",
      "...                           ...      ...   ...     ...    ...    ...\n",
      "2195  D:/dataset/leopard/1095.jpg  leopard     1     300    480      3\n",
      "2196  D:/dataset/leopard/1096.jpg  leopard     1     320    324      3\n",
      "2197  D:/dataset/leopard/1097.jpg  leopard     1     320    480      3\n",
      "2198  D:/dataset/leopard/1098.jpg  leopard     1     319    480      3\n",
      "2199  D:/dataset/leopard/1099.jpg  leopard     1     320    281      3\n",
      "\n",
      "[2200 rows x 6 columns]\n"
     ]
    }
   ],
   "source": [
    "def width(row) -> int:\n",
    "    \"\"\"Calculation width\"\"\"\n",
    "    image = cv2.imread(row[\"absolute way\"])\n",
    "    w = image.shape[1]\n",
    "    return w\n",
    "\n",
    "\n",
    "def height(row) -> int:\n",
    "    \"\"\"Calculation height\"\"\"\n",
    "    image = cv2.imread(row[\"absolute way\"])\n",
    "    h = image.shape[0]\n",
    "    return h\n",
    "\n",
    "\n",
    "def depth(row) -> int:\n",
    "    \"\"\"Calculation depth\"\"\"\n",
    "    image = cv2.imread(row[\"absolute way\"])\n",
    "    d = image.shape[2]\n",
    "    return d\n",
    "\n",
    "df[\"height\"] = df.apply(height, axis=1)\n",
    "df[\"width\"] = df.apply(width, axis=1)\n",
    "df[\"depth\"] = df.apply(depth, axis=1)\n",
    "print(df)"
   ],
   "metadata": {
    "collapsed": false
   }
  },
  {
   "cell_type": "markdown",
   "source": [
    "5: Статистика"
   ],
   "metadata": {
    "collapsed": false
   }
  },
  {
   "cell_type": "code",
   "execution_count": 6,
   "outputs": [
    {
     "name": "stdout",
     "output_type": "stream",
     "text": [
      "              mark       height        width   depth\n",
      "count  2200.000000  2200.000000  2200.000000  2200.0\n",
      "mean      0.500000   309.180909   449.937273     3.0\n",
      "std       0.500114    16.610291    63.040526     0.0\n",
      "min       0.000000   234.000000   168.000000     3.0\n",
      "25%       0.000000   300.000000   443.000000     3.0\n",
      "50%       0.500000   320.000000   480.000000     3.0\n",
      "75%       1.000000   320.000000   480.000000     3.0\n",
      "max       1.000000   320.000000   480.000000     3.0\n"
     ]
    }
   ],
   "source": [
    "st = df.describe()\n",
    "print(st)"
   ],
   "metadata": {
    "collapsed": false
   }
  },
  {
   "cell_type": "markdown",
   "source": [
    "6: Фильтрация по метке"
   ],
   "metadata": {
    "collapsed": false
   }
  },
  {
   "cell_type": "code",
   "execution_count": 7,
   "outputs": [
    {
     "name": "stdout",
     "output_type": "stream",
     "text": [
      "                   absolute way  class  mark  height  width  depth\n",
      "0     D:/dataset/tiger/0000.jpg  tiger     0     319    480      3\n",
      "1     D:/dataset/tiger/0001.jpg  tiger     0     300    480      3\n",
      "2     D:/dataset/tiger/0002.jpg  tiger     0     320    480      3\n",
      "3     D:/dataset/tiger/0003.jpg  tiger     0     270    480      3\n",
      "4     D:/dataset/tiger/0004.jpg  tiger     0     300    480      3\n",
      "...                         ...    ...   ...     ...    ...    ...\n",
      "1095  D:/dataset/tiger/1095.jpg  tiger     0     319    480      3\n",
      "1096  D:/dataset/tiger/1096.jpg  tiger     0     318    480      3\n",
      "1097  D:/dataset/tiger/1097.jpg  tiger     0     273    480      3\n",
      "1098  D:/dataset/tiger/1098.jpg  tiger     0     320    427      3\n",
      "1099  D:/dataset/tiger/1099.jpg  tiger     0     270    480      3\n",
      "\n",
      "[1100 rows x 6 columns]\n"
     ]
    }
   ],
   "source": [
    "def sort_mark(dframe, mark: int):\n",
    "    \"\"\"Filtering by class mark\"\"\"\n",
    "    dframe = df[dframe.mark == mark]\n",
    "    return dframe\n",
    "\n",
    "s_mark = sort_mark(df, 0)\n",
    "print(s_mark)"
   ],
   "metadata": {
    "collapsed": false
   }
  },
  {
   "cell_type": "markdown",
   "source": [
    "7: Фильтрация по метке и размерам"
   ],
   "metadata": {
    "collapsed": false
   }
  },
  {
   "cell_type": "code",
   "execution_count": 8,
   "outputs": [
    {
     "name": "stdout",
     "output_type": "stream",
     "text": [
      "                     absolute way    class  mark  height  width  depth\n",
      "1100  D:/dataset/leopard/0000.jpg  leopard     1     300    480      3\n",
      "1101  D:/dataset/leopard/0001.jpg  leopard     1     300    480      3\n",
      "1109  D:/dataset/leopard/0009.jpg  leopard     1     270    480      3\n",
      "1111  D:/dataset/leopard/0011.jpg  leopard     1     300    480      3\n",
      "1115  D:/dataset/leopard/0015.jpg  leopard     1     300    480      3\n",
      "...                           ...      ...   ...     ...    ...    ...\n",
      "2185  D:/dataset/leopard/1085.jpg  leopard     1     240    480      3\n",
      "2190  D:/dataset/leopard/1090.jpg  leopard     1     288    480      3\n",
      "2191  D:/dataset/leopard/1091.jpg  leopard     1     300    480      3\n",
      "2194  D:/dataset/leopard/1094.jpg  leopard     1     300    480      3\n",
      "2195  D:/dataset/leopard/1095.jpg  leopard     1     300    480      3\n",
      "\n",
      "[345 rows x 6 columns]\n"
     ]
    }
   ],
   "source": [
    "def sort_par(dframe, mark, max_height, max_width):\n",
    "    \"\"\"Create new dataframe filtered by mark and size\"\"\"\n",
    "    dframe = df[(dframe.mark == mark) & (dframe.height <= max_height) & (dframe.width <= max_width)]\n",
    "    return dframe\n",
    "\n",
    "s_par = sort_par(df, 1, 300, 480)\n",
    "print(s_par)"
   ],
   "metadata": {
    "collapsed": false
   }
  },
  {
   "cell_type": "markdown",
   "source": [
    "8: Группировка датафрейма"
   ],
   "metadata": {
    "collapsed": false
   }
  },
  {
   "cell_type": "code",
   "execution_count": 9,
   "outputs": [
    {
     "name": "stdout",
     "output_type": "stream",
     "text": [
      "               size                \n",
      "               mean     min     max\n",
      "mark                               \n",
      "0     418175.127273  172800  460800\n",
      "1     414545.454545  161280  460800\n"
     ]
    }
   ],
   "source": [
    "df[\"size\"] = df[\"height\"] * df[\"width\"] * df[\"depth\"]\n",
    "result = df.groupby(\"mark\").agg({\"size\": [\"mean\", \"min\", \"max\"]})\n",
    "print(result)"
   ],
   "metadata": {
    "collapsed": false
   }
  },
  {
   "cell_type": "markdown",
   "source": [
    "9: Построение гистограммы"
   ],
   "metadata": {
    "collapsed": false
   }
  },
  {
   "cell_type": "code",
   "execution_count": 10,
   "outputs": [],
   "source": [
    "def histogram(dframe, mark: int) -> tuple:\n",
    "    \"\"\"Histogram\"\"\"\n",
    "    dfr = sort_mark(dframe, mark)\n",
    "    list1 = []\n",
    "    list2 = []\n",
    "    list3 = []\n",
    "    for index in dfr.index:\n",
    "        image = cv2.imread(dfr[\"absolute way\"].loc[dfr.index[index]])\n",
    "        list1.append(cv2.calcHist([image], [0], None, [256], [0, 256]))\n",
    "        list2.append(cv2.calcHist([image], [1], None, [256], [0, 256]))\n",
    "        list3.append(cv2.calcHist([image], [2], None, [256], [0, 256]))\n",
    "    return list1, list2, list3\n",
    "\n",
    "h_1, h_2, h_3 = histogram(df, 0)"
   ],
   "metadata": {
    "collapsed": false
   }
  },
  {
   "cell_type": "markdown",
   "source": [
    "10: Отображение гистограммы"
   ],
   "metadata": {
    "collapsed": false
   }
  },
  {
   "cell_type": "code",
   "execution_count": 11,
   "outputs": [
    {
     "data": {
      "text/plain": "<Figure size 640x480 with 1 Axes>",
      "image/png": "[encoded data removed]"
     },
     "metadata": {},
     "output_type": "display_data"
    }
   ],
   "source": [
    "i = random.randint(0, 1100)\n",
    "num = str(i)\n",
    "plt.plot(h_1[i], color=\"blue\")\n",
    "plt.xlim([0, 256])\n",
    "plt.plot(h_2[i], color=\"green\")\n",
    "plt.xlim([0, 256])\n",
    "plt.plot(h_3[i], color=\"red\")\n",
    "plt.xlim([0, 256])\n",
    "plt.title(\"Histogram image No.\" + num)\n",
    "plt.ylabel(\"Count\")\n",
    "plt.xlabel(\"Pixel value\")\n",
    "plt.show()"
   ],
   "metadata": {
    "collapsed": false
   }
  },
  {
   "cell_type": "code",
   "execution_count": null,
   "outputs": [],
   "source": [],
   "metadata": {
    "collapsed": false
   }
  }
 ],
 "metadata": {
  "kernelspec": {
   "display_name": "Python 3",
   "language": "python",
   "name": "python3"
  },
  "language_info": {
   "codemirror_mode": {
    "name": "ipython",
    "version": 2
   },
   "file_extension": ".py",
   "mimetype": "text/x-python",
   "name": "python",
   "nbconvert_exporter": "python",
   "pygments_lexer": "ipython2",
   "version": "2.7.6"
  }
 },
 "nbformat": 4,
 "nbformat_minor": 0
}
